{
 "cells": [
  {
   "cell_type": "code",
   "execution_count": 1,
   "metadata": {},
   "outputs": [],
   "source": [
    "import tensorflow as tf\n",
    "import numpy as np\n",
    "import matplotlib.pyplot as plt\n",
    "import os"
   ]
  },
  {
   "cell_type": "code",
   "execution_count": 2,
   "metadata": {},
   "outputs": [],
   "source": [
    "xs=np.array([[0.34,0.7],[0.1,0.8],[0.2,0.4],[0.8,0.25],[0.2,0.9],[0.25,0.45],[0.15,0.7],[0.9,0.8],[0.32,0.8],[0.3,0.15]])\n",
    "ys=np.array([[1],[0],[1],[1],[0],[1],[0],[1],[0],[1]])"
   ]
  },
  {
   "cell_type": "code",
   "execution_count": 3,
   "metadata": {},
   "outputs": [],
   "source": [
    "#创建占位符\n",
    "X=tf.placeholder(tf.float32,[None,2],name='input_x')\n",
    "Y=tf.placeholder(tf.float32,[None,1])\n",
    "#创建变量\n",
    "w=tf.Variable(tf.zeros([2,1]),name='weight')\n",
    "b=tf.Variable(tf.zeros([1,1]),name='bias')\n",
    "y_predict=tf.sigmoid(tf.add(tf.matmul(X,w),b),name='y_p')\n",
    "cost = tf.reduce_mean(-tf.reduce_sum(Y*tf.log(y_predict)+(1-Y)*tf.log(1-y_predict),reduction_indices=1))\n",
    "optimizer=tf.train.AdamOptimizer(0.2).minimize(cost)"
   ]
  },
  {
   "cell_type": "code",
   "execution_count": 4,
   "metadata": {
    "scrolled": true
   },
   "outputs": [
    {
     "name": "stdout",
     "output_type": "stream",
     "text": [
      "rm: cannot remove ‘model/*’: No such file or directory\n",
      "train_cost is: 0.478272\n",
      "train_cost is: 0.458112\n",
      "train_cost is: 0.410306\n",
      "train_cost is: 0.350043\n",
      "train_cost is: 0.300387\n",
      "train_cost is: 0.262798\n",
      "train_cost is: 0.231362\n",
      "train_cost is: 0.203298\n",
      "train_cost is: 0.178681\n",
      "train_cost is: 0.157673\n",
      "train_cost is: 0.139777\n",
      "train_cost is: 0.124332\n",
      "train_cost is: 0.110882\n",
      "train_cost is: 0.0991416\n",
      "train_cost is: 0.0888869\n",
      "train_cost is: 0.0799069\n",
      "train_cost is: 0.0720138\n",
      "train_cost is: 0.0650515\n",
      "train_cost is: 0.0588928\n",
      "train_cost is: 0.0534313\n",
      "train_cost is: 0.0485756\n",
      "train_cost is: 0.0442476\n",
      "train_cost is: 0.0403805\n",
      "train_cost is: 0.036917\n",
      "train_cost is: 0.0338085\n",
      "train_cost is: 0.0310124\n",
      "train_cost is: 0.0284924\n",
      "train_cost is: 0.0262166\n",
      "train_cost is: 0.0241576\n",
      "train_cost is: 0.0222913\n",
      "train_cost is: 0.0205968\n",
      "train_cost is: 0.0190557\n",
      "train_cost is: 0.0176517\n",
      "train_cost is: 0.0163708\n",
      "train_cost is: 0.0152003\n",
      "train_cost is: 0.0141293\n",
      "train_cost is: 0.0131478\n",
      "train_cost is: 0.0122472\n",
      "train_cost is: 0.0114199\n",
      "train_cost is: 0.0106587\n",
      "train_cost is: 0.00995761\n",
      "train_cost is: 0.0093112\n",
      "train_cost is: 0.00871439\n",
      "train_cost is: 0.00816282\n",
      "train_cost is: 0.00765252\n",
      "train_cost is: 0.00717988\n",
      "train_cost is: 0.00674161\n",
      "train_cost is: 0.00633496\n",
      "train_cost is: 0.00595725\n",
      "train_cost is: 0.00560606\n",
      "train_cost is: 0.00527915\n",
      "train_cost is: 0.00497474\n",
      "train_cost is: 0.00469096\n",
      "train_cost is: 0.00442619\n",
      "train_cost is: 0.00417896\n",
      "train_cost is: 0.00394795\n",
      "train_cost is: 0.00373189\n",
      "train_cost is: 0.00352975\n",
      "train_cost is: 0.00334039\n",
      "train_cost is: 0.00316297\n",
      "train_cost is: 0.00299646\n",
      "train_cost is: 0.00284032\n",
      "train_cost is: 0.00269358\n",
      "train_cost is: 0.00255577\n",
      "train_cost is: 0.00242617\n",
      "train_cost is: 0.00230429\n",
      "train_cost is: 0.00218941\n",
      "train_cost is: 0.00208123\n",
      "train_cost is: 0.0019794\n",
      "train_cost is: 0.00188325\n",
      "train_cost is: 0.00179249\n",
      "train_cost is: 0.00170692\n",
      "train_cost is: 0.00162602\n",
      "train_cost is: 0.00154961\n",
      "train_cost is: 0.00147732\n",
      "train_cost is: 0.00140903\n",
      "train_cost is: 0.00134427\n",
      "train_cost is: 0.00128304\n",
      "train_cost is: 0.00122497\n",
      "train_cost is: 0.00116995\n",
      "train_cost is: 0.00111791\n",
      "train_cost is: 0.00106839\n",
      "train_cost is: 0.00102143\n",
      "train_cost is: 0.00097692\n",
      "train_cost is: 0.000934501\n",
      "train_cost is: 0.00089441\n",
      "train_cost is: 0.00085617\n",
      "train_cost is: 0.00081984\n",
      "train_cost is: 0.000785301\n",
      "train_cost is: 0.000752315\n",
      "train_cost is: 0.00072094\n",
      "train_cost is: 0.000691176\n",
      "train_cost is: 0.000662844\n",
      "train_cost is: 0.000635647\n",
      "train_cost is: 0.000609941\n",
      "train_cost is: 0.00058525\n",
      "train_cost is: 0.000561812\n",
      "train_cost is: 0.000539389\n",
      "train_cost is: 0.000518039\n",
      "train_cost is: 0.000497703\n",
      "('Variable: ', u'weight:0')\n",
      "('Shape: ', (2, 1))\n",
      "[[ 16.18063545]\n",
      " [-13.66607475]]\n",
      "('Variable: ', u'bias:0')\n",
      "('Shape: ', (1, 1))\n",
      "[[ 4.80106735]]\n"
     ]
    },
    {
     "data": {
      "image/png": "[encoded data removed]",
      "text/plain": [
       "<Figure size 432x288 with 1 Axes>"
      ]
     },
     "metadata": {},
     "output_type": "display_data"
    }
   ],
   "source": [
    "cost_accum=[]\n",
    "cost_prev=0\n",
    "num_epoch=100\n",
    "! rm -r model/*\n",
    "with tf.Session() as sess:\n",
    "    #初始化所有变量\n",
    "    sess.run(tf.global_variables_initializer())\n",
    "    #开始训练\n",
    "    for epoch in range(num_epoch):\n",
    "        for x,y in zip(xs,ys):\n",
    "            sess.run(optimizer,feed_dict={X:[x],Y:[y]})\n",
    "        train_cost=sess.run(cost,feed_dict={X:[x],Y:[y]})\n",
    "        cost_accum.append(train_cost)\n",
    "        print \"train_cost is:\",str(train_cost)\n",
    "  \n",
    "        if np.abs(cost_prev-train_cost)<1e-6:\n",
    "            break\n",
    "        cost_prev=train_cost\n",
    "    saver = tf.train.Saver()\n",
    "    saver.save(sess, 'model/lr.ckpt',global_step=num_epoch)\n",
    "    \n",
    "    #保存模型后，最终输出变量名及其值\n",
    "    variable_names = [v.name for v in tf.trainable_variables()]\n",
    "    values = sess.run(variable_names)\n",
    "    for k,v in zip(variable_names, values):\n",
    "        print(\"Variable: \", k)\n",
    "        print(\"Shape: \", v.shape)\n",
    "        print(v)\n",
    "plt.plot(range(len(cost_accum)),cost_accum,'r')\n",
    "plt.title('Logic Regression Cost Curve')\n",
    "plt.xlabel('epoch')\n",
    "plt.ylabel('cost')\n",
    "plt.show()"
   ]
  },
  {
   "cell_type": "code",
   "execution_count": 7,
   "metadata": {},
   "outputs": [
    {
     "name": "stdout",
     "output_type": "stream",
     "text": [
      "{'weight/Adam_1': [2, 1], 'weight/Adam': [2, 1], 'weight': [2, 1], 'bias/Adam_1': [1, 1], 'beta2_power': [], 'bias': [1, 1], 'bias/Adam': [1, 1], 'beta1_power': []}\n",
      "<type 'numpy.ndarray'>\n",
      "(2, 1)\n",
      "[[ 16.18063545]\n",
      " [-13.66607475]]\n"
     ]
    }
   ],
   "source": [
    "reader = tf.train.NewCheckpointReader('model/lr.ckpt-100')\n",
    "dic = reader.get_variable_to_shape_map()\n",
    "print(dic)\n",
    "w = reader.get_tensor(\"weight\")\n",
    "print(type(w))\n",
    "print(w.shape)\n",
    "print(w)"
   ]
  },
  {
   "cell_type": "code",
   "execution_count": 8,
   "metadata": {},
   "outputs": [
    {
     "name": "stdout",
     "output_type": "stream",
     "text": [
      "model/lr.ckpt-100.meta\n",
      "INFO:tensorflow:Restoring parameters from model/lr.ckpt-100\n",
      "load model successfully.\n",
      "[[ 16.18063545]\n",
      " [-13.66607475]] [[ 4.80106735]]\n",
      "('Prediction result:', array([[ 0.95874417],\n",
      "       [ 0.87253255],\n",
      "       [ 0.0029939 ]], dtype=float32))\n"
     ]
    }
   ],
   "source": [
    "x_test=np.array([[0.32,0.5],[0.16,0.4],[0.02,0.8]])\n",
    "with tf.Session() as sess:\n",
    "    path = 'model/'\n",
    "    dir_list=os.listdir(path)\n",
    "    for file in dir_list:\n",
    "        if 'meta' in file:\n",
    "            meta_path = path + file\n",
    "            print meta_path\n",
    "    saver = tf.train.import_meta_graph(meta_path)\n",
    "    saver.restore(sess, tf.train.latest_checkpoint(path))\n",
    "    print('load model successfully.')\n",
    "    print sess.run('weight:0'),sess.run('bias:0')\n",
    "    graph = tf.get_default_graph()\n",
    "    input_x = graph.get_tensor_by_name('input_x:0')\n",
    "    logit=graph.get_tensor_by_name('y_p:0')\n",
    "    feed_dict = {input_x: x_test}\n",
    "    result = sess.run(logit, feed_dict=feed_dict)\n",
    "    print('Prediction result:', result)"
   ]
  },
  {
   "cell_type": "code",
   "execution_count": null,
   "metadata": {},
   "outputs": [],
   "source": []
  }
 ],
 "metadata": {
  "kernelspec": {
   "display_name": "Python 2",
   "language": "python",
   "name": "python2"
  },
  "language_info": {
   "codemirror_mode": {
    "name": "ipython",
    "version": 2
   },
   "file_extension": ".py",
   "mimetype": "text/x-python",
   "name": "python",
   "nbconvert_exporter": "python",
   "pygments_lexer": "ipython2",
   "version": "2.7.15"
  }
 },
 "nbformat": 4,
 "nbformat_minor": 2
}
