{
 "cells": [
  {
   "cell_type": "code",
   "execution_count": 1,
   "metadata": {},
   "outputs": [],
   "source": [
    "import numpy as np"
   ]
  },
  {
   "cell_type": "markdown",
   "metadata": {},
   "source": [
    "# Hit Ratio"
   ]
  },
  {
   "cell_type": "markdown",
   "metadata": {},
   "source": [
    "衡量top-k召回率的指标，计算公式如下;示例：三个用户测试集item个数为10、12、8，在top-10的推荐列表中分别命中了6、5、4个。HR值为(6+5+4)/(10+12+8) = 0.5"
   ]
  },
  {
   "cell_type": "markdown",
   "metadata": {},
   "source": [
    "$HR@K=\\frac{NumbersOfHits@K}{|GT|}$"
   ]
  },
  {
   "cell_type": "code",
   "execution_count": 2,
   "metadata": {},
   "outputs": [],
   "source": [
    "def hit(gt_items, pred_items):\n",
    "    count = 0\n",
    "    for item in pred_items:\n",
    "        if item in gt_items:\n",
    "            count += 1\n",
    "    return count"
   ]
  },
  {
   "cell_type": "markdown",
   "metadata": {},
   "source": [
    "# MAP"
   ]
  },
  {
   "cell_type": "markdown",
   "metadata": {},
   "source": [
    "计算AP值，再对每个用户取平均值"
   ]
  },
  {
   "cell_type": "code",
   "execution_count": 3,
   "metadata": {},
   "outputs": [],
   "source": [
    "def AP(ranked_list, ground_truth):\n",
    "    \"\"\"Compute the average precision (AP) of a list of ranked items\n",
    "    \"\"\"\n",
    "    hits = 0\n",
    "    sum_precs = 0\n",
    "    for n in range(len(ranked_list)):\n",
    "        if ranked_list[n] in ground_truth:\n",
    "            hits += 1\n",
    "            sum_precs += hits / (n + 1.0)\n",
    "    if hits > 0:\n",
    "        return sum_precs / len(ground_truth)\n",
    "    else:\n",
    "        return 0"
   ]
  },
  {
   "cell_type": "markdown",
   "metadata": {},
   "source": [
    "# NDCG"
   ]
  },
  {
   "cell_type": "code",
   "execution_count": 4,
   "metadata": {},
   "outputs": [
    {
     "output_type": "stream",
     "name": "stdout",
     "text": "dcg 6.696665042260721\nidcg 7.1409951840957\nndcg 0.9377775603567716\n"
    }
   ],
   "source": [
    "def ndcg(pred_rel):\n",
    "    dcg = 0\n",
    "    for (index,rel) in enumerate(pred_rel):\n",
    "        dcg += (rel * np.reciprocal(np.log2(index+2)))\n",
    "    print(\"dcg \" + str(dcg))\n",
    "    idcg = 0\n",
    "    for(index,rel) in enumerate(sorted(pred_rel,reverse=True)):\n",
    "        idcg += (rel * np.reciprocal(np.log2(index+2)))\n",
    "    print(\"idcg \" + str(idcg))\n",
    "\n",
    "\n",
    "    return dcg/idcg\n",
    "\n",
    "\n",
    "pred_rel = [3,1,2,3,2]\n",
    "print(\"ndcg \" + str(ndcg(pred_rel)))"
   ]
  },
  {
   "cell_type": "code",
   "execution_count": null,
   "metadata": {},
   "outputs": [],
   "source": []
  }
 ],
 "metadata": {
  "kernelspec": {
   "display_name": "Python 3",
   "language": "python",
   "name": "python3"
  },
  "language_info": {
   "codemirror_mode": {
    "name": "ipython",
    "version": 2
   },
   "file_extension": ".py",
   "mimetype": "text/x-python",
   "name": "python",
   "nbconvert_exporter": "python",
   "pygments_lexer": "ipython2",
   "version": "3.7.4-final"
  }
 },
 "nbformat": 4,
 "nbformat_minor": 2
}