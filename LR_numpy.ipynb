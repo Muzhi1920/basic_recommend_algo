{
 "cells": [
  {
   "cell_type": "code",
   "execution_count": 58,
   "metadata": {},
   "outputs": [],
   "source": [
    "import numpy as np\n",
    "from random import randint"
   ]
  },
  {
   "cell_type": "code",
   "execution_count": 59,
   "metadata": {},
   "outputs": [],
   "source": [
    "def activation(x, w , b):\n",
    "    x_ = np.dot(w, x.T) + b\n",
    "    sigmoid = 1 / (1 + np.exp(-x_))\n",
    "    return sigmoid"
   ]
  },
  {
   "cell_type": "code",
   "execution_count": 60,
   "metadata": {},
   "outputs": [],
   "source": [
    "def gradient_descent_batch(x, w, b, y, learning_rate):\n",
    "    n = len(y)\n",
    "    y_p = activation(x, w, b)\n",
    "    cost = -np.sum(y.T * np.log(y_p) + (1-y).T * np.log(1-y_p)) / n\n",
    "    gw = np.dot(x.T, (y_p - y.T).T) / n\n",
    "    gb = np.sum((y_p - y.T)) / n\n",
    "    w -= learning_rate * gw.T\n",
    "    b -= learning_rate * gb\n",
    "    return w, b, cost"
   ]
  },
  {
   "cell_type": "code",
   "execution_count": 61,
   "metadata": {},
   "outputs": [],
   "source": [
    "def optimal_model_batch(x, y, nums_feature, epoch=10000, batch_size=1):\n",
    "    length = len(x)\n",
    "    minLoss=10\n",
    "    w = np.zeros((1, nums_feature))\n",
    "    b = 0 \n",
    "    for i in range(epoch):\n",
    "        num = randint(0, length - 1 - batch_size)\n",
    "        x_batch = x[num:(num+batch_size), :]\n",
    "        y_batch = y[num:num+batch_size]\n",
    "        w, b, cost = gradient_descent_batch(x_batch, w, b, y_batch, 0.1)\n",
    "        if i%1000 == 0:\n",
    "            print('step is : ', i, ', cost is: ', cost)\n",
    "    return w,b"
   ]
  },
  {
   "cell_type": "code",
   "execution_count": 62,
   "metadata": {},
   "outputs": [],
   "source": [
    "x_train=np.array([[0.34,0.7],[0.1,0.8],[0.2,0.4],[0.8,0.25],[0.2,0.9],[0.25,0.45],[0.15,0.7],[0.9,0.8],[0.32,0.8],[0.3,0.15]])\n",
    "y_train=np.array([[1],[0],[1],[1],[0],[1],[0],[1],[0],[1]])\n",
    "x_test=np.array([[0.32,0.5],[0.16,0.4],[0.02,0.8]])"
   ]
  },
  {
   "cell_type": "code",
   "execution_count": 63,
   "metadata": {},
   "outputs": [
    {
     "name": "stdout",
     "output_type": "stream",
     "text": [
      "('step is : ', 0, ', cost is: ', 0.69314718055994529)\n",
      "('step is : ', 1000, ', cost is: ', 0.33133796500987522)\n",
      "('step is : ', 2000, ', cost is: ', 0.1423935575612495)\n",
      "('step is : ', 3000, ', cost is: ', 0.16382409445207294)\n",
      "('step is : ', 4000, ', cost is: ', 0.22020484791079534)\n",
      "('step is : ', 5000, ', cost is: ', 0.11817022156351983)\n",
      "('step is : ', 6000, ', cost is: ', 0.15373360969285971)\n",
      "('step is : ', 7000, ', cost is: ', 0.067396203788248607)\n",
      "('step is : ', 8000, ', cost is: ', 0.058580559049958777)\n",
      "('step is : ', 9000, ', cost is: ', 0.037356712844969969)\n",
      "('step is : ', 10000, ', cost is: ', 0.044317129418014765)\n",
      "('step is : ', 11000, ', cost is: ', 0.010148228999932235)\n",
      "('step is : ', 12000, ', cost is: ', 0.027609626373442563)\n",
      "('step is : ', 13000, ', cost is: ', 0.096236433401416063)\n",
      "('step is : ', 14000, ', cost is: ', 0.033496416388919363)\n",
      "('step is : ', 15000, ', cost is: ', 0.10647002911238139)\n",
      "('step is : ', 16000, ', cost is: ', 0.024564658782821828)\n",
      "('step is : ', 17000, ', cost is: ', 0.064405538862636127)\n",
      "('step is : ', 18000, ', cost is: ', 0.024923082032175466)\n",
      "('step is : ', 19000, ', cost is: ', 0.23430718799284928)\n"
     ]
    }
   ],
   "source": [
    "w, b = optimal_model_batch(x_train, y_train, 2, 20000, 2)\n",
    "predict = activation(x_test, w, b).T"
   ]
  },
  {
   "cell_type": "code",
   "execution_count": 64,
   "metadata": {},
   "outputs": [
    {
     "data": {
      "text/plain": [
       "(array([[ 14.69751462, -16.69393007]]), 7.4424750024053035)"
      ]
     },
     "execution_count": 64,
     "metadata": {},
     "output_type": "execute_result"
    }
   ],
   "source": [
    "w,b"
   ]
  },
  {
   "cell_type": "code",
   "execution_count": 65,
   "metadata": {},
   "outputs": [
    {
     "data": {
      "text/plain": [
       "array([[ 0.9780912 ],\n",
       "       [ 0.95756846],\n",
       "       [ 0.00361616]])"
      ]
     },
     "execution_count": 65,
     "metadata": {},
     "output_type": "execute_result"
    }
   ],
   "source": [
    "predict"
   ]
  },
  {
   "cell_type": "code",
   "execution_count": null,
   "metadata": {},
   "outputs": [],
   "source": []
  }
 ],
 "metadata": {
  "kernelspec": {
   "display_name": "Python 2",
   "language": "python",
   "name": "python2"
  },
  "language_info": {
   "codemirror_mode": {
    "name": "ipython",
    "version": 2
   },
   "file_extension": ".py",
   "mimetype": "text/x-python",
   "name": "python",
   "nbconvert_exporter": "python",
   "pygments_lexer": "ipython2",
   "version": "2.7.15"
  }
 },
 "nbformat": 4,
 "nbformat_minor": 2
}
